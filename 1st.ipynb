from PIL import Image
import numpy as np

# Load image
img = Image.open("ohnooo.jpg").convert("L")  # Convert to grayscale
img_arr = np.array(img)

# Apply filter (invert colors)
filtered_img_arr = 255 - img_arr

# Convert back to image and save
filtered_img = Image.fromarray(filtered_img_arr)
filtered_img.save("filtered_image.jpg")
